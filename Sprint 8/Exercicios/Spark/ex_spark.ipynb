{
  "cells": [
    {
      "cell_type": "code",
      "execution_count": 1,
      "metadata": {
        "colab": {
          "base_uri": "https://localhost:8080/"
        },
        "id": "6_7DMvgnRSO7",
        "outputId": "c4a1e0a1-065d-4491-bfbd-7d83fe612bab"
      },
      "outputs": [
        {
          "name": "stdout",
          "output_type": "stream",
          "text": [
            "Requirement already satisfied: pyspark in /usr/local/lib/python3.11/dist-packages (3.5.4)\n",
            "Requirement already satisfied: py4j==0.10.9.7 in /usr/local/lib/python3.11/dist-packages (from pyspark) (0.10.9.7)\n"
          ]
        }
      ],
      "source": [
        "%pip install pyspark"
      ]
    },
    {
      "cell_type": "markdown",
      "metadata": {
        "id": "642Nj5eITOPL"
      },
      "source": [
        "# Importando as bibliotecas necessárias e configurando o Spark:"
      ]
    },
    {
      "cell_type": "code",
      "execution_count": 2,
      "metadata": {
        "colab": {
          "base_uri": "https://localhost:8080/"
        },
        "id": "0-GosvWoRrFb",
        "outputId": "fdc0df8e-b977-42d5-9151-b731d4b001d2"
      },
      "outputs": [
        {
          "name": "stdout",
          "output_type": "stream",
          "text": [
            "Spark configurado com sucesso!\n"
          ]
        }
      ],
      "source": [
        "from pyspark.sql import SparkSession\n",
        "from pyspark.sql.functions import col, lit, expr\n",
        "import random\n",
        "\n",
        "spark = SparkSession \\\n",
        "    .builder \\\n",
        "    .master (\"local[*]\") \\\n",
        "    .appName(\"Exercicio Intro\") \\\n",
        "    .getOrCreate()\n",
        "\n",
        "print(\"Spark configurado com sucesso!\")\n"
      ]
    },
    {
      "cell_type": "markdown",
      "metadata": {
        "id": "6QE1iDO6TH2L"
      },
      "source": [
        "# Etapa 1: Ler o arquivo e mostrar o DataFrame"
      ]
    },
    {
      "cell_type": "code",
      "execution_count": 7,
      "metadata": {
        "colab": {
          "base_uri": "https://localhost:8080/"
        },
        "id": "S9LsjlzaRzm9",
        "outputId": "bcd5c7be-5261-463d-a6f0-aa93e972568f"
      },
      "outputs": [
        {
          "name": "stdout",
          "output_type": "stream",
          "text": [
            "+----------------+\n",
            "|           nomes|\n",
            "+----------------+\n",
            "|  Frances Bennet|\n",
            "|   Jamie Russell|\n",
            "|  Edward Kistler|\n",
            "|   Sheila Maurer|\n",
            "|Donald Golightly|\n",
            "+----------------+\n",
            "only showing top 5 rows\n",
            "\n"
          ]
        }
      ],
      "source": [
        "df_nomes = spark.read.text(\"nomes_aleatorios.txt\").toDF(\"nomes\")\n",
        "\n",
        "df_nomes.show(5)"
      ]
    },
    {
      "cell_type": "markdown",
      "metadata": {
        "id": "X8lV1gmpTCMd"
      },
      "source": [
        "# Etapa 2: Renomear a coluna e verificar o schema"
      ]
    },
    {
      "cell_type": "code",
      "execution_count": 8,
      "metadata": {
        "colab": {
          "base_uri": "https://localhost:8080/"
        },
        "id": "KSdTI5yVR3D2",
        "outputId": "5d1c9717-7003-4a6f-d9d4-3964e090a689"
      },
      "outputs": [
        {
          "name": "stdout",
          "output_type": "stream",
          "text": [
            "root\n",
            " |-- Nomes: string (nullable = true)\n",
            "\n",
            "+-----------------+\n",
            "|            Nomes|\n",
            "+-----------------+\n",
            "|   Frances Bennet|\n",
            "|    Jamie Russell|\n",
            "|   Edward Kistler|\n",
            "|    Sheila Maurer|\n",
            "| Donald Golightly|\n",
            "|       David Gray|\n",
            "|      Joy Bennett|\n",
            "|      Paul Kriese|\n",
            "|Berniece Ornellas|\n",
            "|    Brian Farrell|\n",
            "+-----------------+\n",
            "only showing top 10 rows\n",
            "\n"
          ]
        }
      ],
      "source": [
        "df_nomes = df_nomes.withColumnRenamed(\"nomes\", \"Nomes\")\n",
        "\n",
        "df_nomes.printSchema()\n",
        "\n",
        "df_nomes.show(10)"
      ]
    },
    {
      "cell_type": "markdown",
      "metadata": {
        "id": "ayi1zYBtS-In"
      },
      "source": [
        "# Etapa 3: Adicionar coluna \"Escolaridade\""
      ]
    },
    {
      "cell_type": "code",
      "execution_count": 9,
      "metadata": {
        "colab": {
          "base_uri": "https://localhost:8080/"
        },
        "id": "A0uMxbWAR6hS",
        "outputId": "5411a0f0-916f-4ee9-ea2a-76eb93ac5d48"
      },
      "outputs": [
        {
          "name": "stdout",
          "output_type": "stream",
          "text": [
            "+-----------------+------------+\n",
            "|            Nomes|Escolaridade|\n",
            "+-----------------+------------+\n",
            "|   Frances Bennet|    Superior|\n",
            "|    Jamie Russell|       Medio|\n",
            "|   Edward Kistler|       Medio|\n",
            "|    Sheila Maurer|       Medio|\n",
            "| Donald Golightly|       Medio|\n",
            "|       David Gray| Fundamental|\n",
            "|      Joy Bennett|       Medio|\n",
            "|      Paul Kriese| Fundamental|\n",
            "|Berniece Ornellas|    Superior|\n",
            "|    Brian Farrell|    Superior|\n",
            "+-----------------+------------+\n",
            "only showing top 10 rows\n",
            "\n"
          ]
        }
      ],
      "source": [
        "escolaridade_opcoes = [\"Fundamental\", \"Medio\", \"Superior\"]\n",
        "\n",
        "df_nomes = df_nomes.withColumn(\n",
        "    \"Escolaridade\",\n",
        "    expr(f\"array('{escolaridade_opcoes[0]}', '{escolaridade_opcoes[1]}', '{escolaridade_opcoes[2]}')[cast(rand() * 3 as int)]\")\n",
        ")\n",
        "\n",
        "df_nomes.show(10)"
      ]
    },
    {
      "cell_type": "markdown",
      "metadata": {
        "id": "232cRLhdS5XA"
      },
      "source": [
        "# Etapa 4: Adicionar coluna \"País\""
      ]
    },
    {
      "cell_type": "code",
      "execution_count": 11,
      "metadata": {
        "colab": {
          "base_uri": "https://localhost:8080/"
        },
        "id": "xNd16sn3R_dl",
        "outputId": "f4807be5-d971-4a80-8b2a-55cfe770fb66"
      },
      "outputs": [
        {
          "name": "stdout",
          "output_type": "stream",
          "text": [
            "+-----------------+------------+---------+\n",
            "|            Nomes|Escolaridade|     Pais|\n",
            "+-----------------+------------+---------+\n",
            "|   Frances Bennet|    Superior| Colômbia|\n",
            "|    Jamie Russell|       Medio|  Uruguai|\n",
            "|   Edward Kistler|       Medio|Argentina|\n",
            "|    Sheila Maurer|       Medio| Paraguai|\n",
            "| Donald Golightly|       Medio|  Uruguai|\n",
            "|       David Gray| Fundamental|  Bolívia|\n",
            "|      Joy Bennett|       Medio| Paraguai|\n",
            "|      Paul Kriese| Fundamental|    Chile|\n",
            "|Berniece Ornellas|    Superior|    Chile|\n",
            "|    Brian Farrell|    Superior|  Bolívia|\n",
            "+-----------------+------------+---------+\n",
            "only showing top 10 rows\n",
            "\n"
          ]
        }
      ],
      "source": [
        "paises = [\"Argentina\", \"Bolívia\", \"Brasil\", \"Chile\", \"Colômbia\", \"Equador\",\n",
        "          \"Guiana\", \"Paraguai\", \"Peru\", \"Suriname\", \"Uruguai\", \"Venezuela\", \"Guiana Francesa\"]\n",
        "\n",
        "# expressão para atribuir um país aleatório\n",
        "paises_expr = \"array(\" + \", \".join([f\"'{pais}'\" for pais in paises]) + \")[cast(rand() * 13 as int)]\"\n",
        "\n",
        "# adicionando a coluna \"Pais\" ao DataFrame\n",
        "df_nomes = df_nomes.withColumn(\"Pais\", expr(paises_expr))\n",
        "\n",
        "df_nomes.show(10)\n"
      ]
    },
    {
      "cell_type": "markdown",
      "metadata": {
        "id": "sAzNb3ReS1QC"
      },
      "source": [
        "# Etapa 5: Adicionar coluna \"AnoNascimento\""
      ]
    },
    {
      "cell_type": "code",
      "execution_count": 12,
      "metadata": {
        "colab": {
          "base_uri": "https://localhost:8080/"
        },
        "id": "nHbR8Z4fSB5E",
        "outputId": "bc2614ae-35c9-4269-de4b-d1c4ee82a6fc"
      },
      "outputs": [
        {
          "name": "stdout",
          "output_type": "stream",
          "text": [
            "+-----------------+------------+---------+-------------+\n",
            "|            Nomes|Escolaridade|     Pais|AnoNascimento|\n",
            "+-----------------+------------+---------+-------------+\n",
            "|   Frances Bennet|    Superior| Colômbia|         2010|\n",
            "|    Jamie Russell|       Medio|  Uruguai|         1961|\n",
            "|   Edward Kistler|       Medio|Argentina|         1988|\n",
            "|    Sheila Maurer|       Medio| Paraguai|         2000|\n",
            "| Donald Golightly|       Medio|  Uruguai|         2006|\n",
            "|       David Gray| Fundamental|  Bolívia|         2000|\n",
            "|      Joy Bennett|       Medio| Paraguai|         1948|\n",
            "|      Paul Kriese| Fundamental|    Chile|         1967|\n",
            "|Berniece Ornellas|    Superior|    Chile|         1953|\n",
            "|    Brian Farrell|    Superior|  Bolívia|         1969|\n",
            "+-----------------+------------+---------+-------------+\n",
            "only showing top 10 rows\n",
            "\n"
          ]
        }
      ],
      "source": [
        "# valores aleatórios entre 1945 e 2010\n",
        "df_nomes = df_nomes.withColumn(\n",
        "    \"AnoNascimento\",\n",
        "    expr(\"cast(rand() * (2010 - 1945 + 1) + 1945 as int)\")\n",
        ")\n",
        "\n",
        "df_nomes.show(10)\n"
      ]
    },
    {
      "cell_type": "markdown",
      "metadata": {
        "id": "04vBzGBuSxrs"
      },
      "source": [
        "# Etapa 6: Selecionar pessoas nascidas neste século"
      ]
    },
    {
      "cell_type": "code",
      "execution_count": 13,
      "metadata": {
        "colab": {
          "base_uri": "https://localhost:8080/"
        },
        "id": "xKlZb5ixSEpn",
        "outputId": "06462632-0fdb-4a58-f578-0faa8ab236af"
      },
      "outputs": [
        {
          "name": "stdout",
          "output_type": "stream",
          "text": [
            "+----------------+\n",
            "|           Nomes|\n",
            "+----------------+\n",
            "|  Frances Bennet|\n",
            "|   Sheila Maurer|\n",
            "|Donald Golightly|\n",
            "|      David Gray|\n",
            "|    Ernest Hulet|\n",
            "|  Lorenzo Woodis|\n",
            "| Helen Blackwell|\n",
            "|    Roxie Bernal|\n",
            "|     Donald Vogt|\n",
            "|   Milton Dillon|\n",
            "+----------------+\n",
            "only showing top 10 rows\n",
            "\n"
          ]
        }
      ],
      "source": [
        "df_select = df_nomes.filter(col(\"AnoNascimento\") >= 2000)\n",
        "\n",
        "df_select.select(\"Nomes\").show(10)"
      ]
    },
    {
      "cell_type": "markdown",
      "metadata": {
        "id": "piZstSJ0SuQf"
      },
      "source": [
        "# Etapa 7: Repetir com Spark SQL"
      ]
    },
    {
      "cell_type": "code",
      "execution_count": 14,
      "metadata": {
        "colab": {
          "base_uri": "https://localhost:8080/"
        },
        "id": "3x1SAN3sSH4W",
        "outputId": "b43877e9-ac40-43e1-c15b-afe93897e21e"
      },
      "outputs": [
        {
          "name": "stdout",
          "output_type": "stream",
          "text": [
            "+----------------+\n",
            "|           Nomes|\n",
            "+----------------+\n",
            "|  Frances Bennet|\n",
            "|   Sheila Maurer|\n",
            "|Donald Golightly|\n",
            "|      David Gray|\n",
            "|    Ernest Hulet|\n",
            "|  Lorenzo Woodis|\n",
            "| Helen Blackwell|\n",
            "|    Roxie Bernal|\n",
            "|     Donald Vogt|\n",
            "|   Milton Dillon|\n",
            "+----------------+\n",
            "only showing top 10 rows\n",
            "\n"
          ]
        }
      ],
      "source": [
        "df_nomes.createOrReplaceTempView(\"pessoas\")\n",
        "\n",
        "df_sql_select = spark.sql(\"SELECT Nomes FROM pessoas WHERE AnoNascimento >= 2000\")\n",
        "df_sql_select.show(10)"
      ]
    },
    {
      "cell_type": "markdown",
      "metadata": {
        "id": "ITxZx7TsSko8"
      },
      "source": [
        "# Etapa 8: Contar Millenials (1980-1994)"
      ]
    },
    {
      "cell_type": "code",
      "execution_count": 15,
      "metadata": {
        "colab": {
          "base_uri": "https://localhost:8080/"
        },
        "id": "AzCiZotYSK7U",
        "outputId": "1a33f2cd-db79-4feb-bb59-1eb800f46933"
      },
      "outputs": [
        {
          "name": "stdout",
          "output_type": "stream",
          "text": [
            "Número de Millenials: 2271572\n"
          ]
        }
      ],
      "source": [
        "millennials_count = df_nomes.filter(\n",
        "    (col(\"AnoNascimento\") >= 1980) & (col(\"AnoNascimento\") <= 1994)\n",
        ").count()\n",
        "\n",
        "print(f\"Número de Millenials: {millennials_count}\")"
      ]
    },
    {
      "cell_type": "markdown",
      "metadata": {
        "id": "KDDMZygISZnc"
      },
      "source": [
        "# Etapa 9: Contar Millenials com Spark SQL"
      ]
    },
    {
      "cell_type": "code",
      "execution_count": 16,
      "metadata": {
        "colab": {
          "base_uri": "https://localhost:8080/"
        },
        "id": "1cID64bkSMe7",
        "outputId": "07132035-c040-44b1-fea3-d0f6396821d4"
      },
      "outputs": [
        {
          "name": "stdout",
          "output_type": "stream",
          "text": [
            "+----------+\n",
            "|Millenials|\n",
            "+----------+\n",
            "|   2271572|\n",
            "+----------+\n",
            "\n"
          ]
        }
      ],
      "source": [
        "millennials_sql = spark.sql(\n",
        "    \"SELECT COUNT(*) AS Millenials FROM pessoas WHERE AnoNascimento BETWEEN 1980 AND 1994\"\n",
        ")\n",
        "millennials_sql.show()"
      ]
    },
    {
      "cell_type": "markdown",
      "metadata": {
        "id": "gz8FxpuISTg1"
      },
      "source": [
        "# Etapa 10: Contar pessoas por país e geração"
      ]
    },
    {
      "cell_type": "code",
      "execution_count": 17,
      "metadata": {
        "colab": {
          "base_uri": "https://localhost:8080/"
        },
        "id": "3R_-nU5jSPRQ",
        "outputId": "7eb3502f-0282-4718-99bd-1e4dd4e3d68b"
      },
      "outputs": [
        {
          "name": "stdout",
          "output_type": "stream",
          "text": [
            "+---------+------------+----------+\n",
            "|     Pais|     Geracao|Quantidade|\n",
            "+---------+------------+----------+\n",
            "|Argentina|Baby Boomers|    233716|\n",
            "|Argentina|   Geração X|    175026|\n",
            "|Argentina|   Geração Z|    186371|\n",
            "|Argentina| Millennials|    174376|\n",
            "|  Bolívia|Baby Boomers|    233638|\n",
            "|  Bolívia|   Geração X|    175512|\n",
            "|  Bolívia|   Geração Z|    186061|\n",
            "|  Bolívia| Millennials|    174717|\n",
            "|   Brasil|Baby Boomers|    232915|\n",
            "|   Brasil|   Geração X|    174776|\n",
            "|   Brasil|   Geração Z|    186766|\n",
            "|   Brasil| Millennials|    174417|\n",
            "|    Chile|Baby Boomers|    232961|\n",
            "|    Chile|   Geração X|    174571|\n",
            "|    Chile|   Geração Z|    186353|\n",
            "|    Chile| Millennials|    174459|\n",
            "| Colômbia|Baby Boomers|    233590|\n",
            "| Colômbia|   Geração X|    174281|\n",
            "| Colômbia|   Geração Z|    186769|\n",
            "| Colômbia| Millennials|    174656|\n",
            "+---------+------------+----------+\n",
            "only showing top 20 rows\n",
            "\n"
          ]
        }
      ],
      "source": [
        "# criando a coluna \"Geração\"\n",
        "df_nomes = df_nomes.withColumn(\n",
        "    \"Geracao\",\n",
        "    expr(\"\"\"\n",
        "        CASE\n",
        "            WHEN AnoNascimento BETWEEN 1944 AND 1964 THEN 'Baby Boomers'\n",
        "            WHEN AnoNascimento BETWEEN 1965 AND 1979 THEN 'Geração X'\n",
        "            WHEN AnoNascimento BETWEEN 1980 AND 1994 THEN 'Millennials'\n",
        "            WHEN AnoNascimento BETWEEN 1995 AND 2015 THEN 'Geração Z'\n",
        "        END\n",
        "    \"\"\")\n",
        ")\n",
        "\n",
        "# tabela temporária\n",
        "df_nomes.createOrReplaceTempView(\"pessoas\")\n",
        "\n",
        "# contando pessoas por país e geração\n",
        "query = \"\"\"\n",
        "    SELECT Pais, Geracao, COUNT(*) AS Quantidade\n",
        "    FROM pessoas\n",
        "    GROUP BY Pais, Geracao\n",
        "    ORDER BY Pais, Geracao, Quantidade\n",
        "\"\"\"\n",
        "df_resultado = spark.sql(query)\n",
        "df_resultado.show()"
      ]
    }
  ],
  "metadata": {
    "colab": {
      "provenance": []
    },
    "kernelspec": {
      "display_name": "Python 3",
      "name": "python3"
    },
    "language_info": {
      "name": "python"
    }
  },
  "nbformat": 4,
  "nbformat_minor": 0
}
